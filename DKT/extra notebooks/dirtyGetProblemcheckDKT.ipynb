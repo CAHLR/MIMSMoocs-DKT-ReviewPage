{
 "cells": [
  {
   "cell_type": "code",
   "execution_count": 1,
   "metadata": {
    "collapsed": true
   },
   "outputs": [],
   "source": [
    "import pandas as pd\n",
    "import os\n",
    "import csv\n",
    "import json\n",
    "\"\"\" Replace 14 with 15 in full file, select proper log file\"\"\"\n",
    "data_dir = '../data/dktData/delft15/'\n",
    "event_log = os.path.join('../data'+'/DelftX_AE1110x_2T2015-events.log')\n",
    "# event_log = os.path.join('../data'+'/DelftX_AE1110x_1T2014-events.log')\n",
    "import datetime\n",
    "import pandas as pd\n",
    "import json\n",
    "import numpy as np\n",
    "def process_time(time):\n",
    "    return datetime.datetime.strptime(time[:-6], '%Y-%m-%dT%H:%M:%S.%f' if '.' in time[:-6] else '%Y-%m-%dT%H:%M:%S')"
   ]
  },
  {
   "cell_type": "code",
   "execution_count": 2,
   "metadata": {
    "collapsed": true
   },
   "outputs": [],
   "source": [
    "\n",
    "\"\"\"This will read log data and save problemcheck log events only\"\"\"\n",
    "def read_raw_log_file(log_file=event_log):\n",
    "\n",
    "    working_data = []\n",
    "    fail_count = 0\n",
    "    problem_check_count=0\n",
    "    with open(log_file) as data_file:\n",
    "        for line in data_file.readlines():\n",
    "            try:\n",
    "                data = json.loads(line)\n",
    "                if data['event_type']=='problem_check':\n",
    "                    working_data.append(data)\n",
    "\n",
    "                    problem_check_count+=1\n",
    "    #                     working_data.append(line)\n",
    "            except:\n",
    "                fail_count+=1\n",
    "                print(\"Failed to read line:\")\n",
    "                print(line)\n",
    "                continue\n",
    "    print(\"Number of problem check log entries:\", problem_check_count)\n",
    "    print(\"Number of failed lines: \", fail_count)\n",
    "    print(\"Length of successfuly read data: \", len(working_data))\n",
    "    # SAVE LOG DATA  OF PROBLEM CHECK STUDENTS in a json file\n",
    "    with open(data_dir+\"delft_15_only_problem_check_log.json\", 'w') as fout:\n",
    "        json.dump(working_data, fout)\n",
    "    return working_data\n",
    "# working_data=read_raw_log_file()"
   ]
  },
  {
   "cell_type": "code",
   "execution_count": null,
   "metadata": {
    "collapsed": true
   },
   "outputs": [],
   "source": []
  },
  {
   "cell_type": "code",
   "execution_count": 3,
   "metadata": {
    "collapsed": true
   },
   "outputs": [],
   "source": [
    "# >>load only the problem check log data if the problem check log does nt exist \n",
    "#  run the above function: read_raw_log_file()\n",
    "# import json\n",
    "# data_problem_check = json.load(open(data_dir+'delft_15_only_problem_check_log.json'))"
   ]
  },
  {
   "cell_type": "code",
   "execution_count": null,
   "metadata": {
    "collapsed": true
   },
   "outputs": [],
   "source": []
  },
  {
   "cell_type": "code",
   "execution_count": 4,
   "metadata": {
    "collapsed": true,
    "scrolled": false
   },
   "outputs": [],
   "source": [
    "# for key in data_problem_check[0]:\n",
    "#     print(key)\n",
    "    \n",
    "# # print(\"\")\n",
    "\n",
    "# for key in data_problem_check[0][\"event\"]:\n",
    "#     print(key)"
   ]
  },
  {
   "cell_type": "code",
   "execution_count": 5,
   "metadata": {
    "collapsed": true
   },
   "outputs": [],
   "source": [
    "# SAVE STUDENT DATA TO DATAFRAME\n",
    "\n",
    "# listOfRows=[]\n",
    "# for row in data_problem_check:\n",
    "#     rowdict={}\n",
    "#     rowdict[\"time\"]=process_time(row['time'])\n",
    "#     rowdict[\"username\"]=row['username']\n",
    "# \"\"\"for 2015 edit problemid using this\"\"\"\n",
    "##    rowdict['problem_id']=row['event']['problem_id'].split(\"@\")[-1])\n",
    "#     rowdict[\"problem_id\"]=row['event']['problem_id'].split(\"/\")[-1]\n",
    "#     rowdict[\"success\"]=row['event']['success']\n",
    "#     rowdict[\"attempts\"]=row['event']['attempts']\n",
    "#     listOfRows.append(rowdict)\n",
    "  \n",
    "    \n",
    "# df = pd.DataFrame(listOfRows)\n",
    "# df.to_csv(data_dir+'delft_15_DKTrequired_data.csv',index=False)\n"
   ]
  },
  {
   "cell_type": "code",
   "execution_count": null,
   "metadata": {
    "collapsed": true
   },
   "outputs": [],
   "source": []
  },
  {
   "cell_type": "code",
   "execution_count": 6,
   "metadata": {
    "scrolled": true
   },
   "outputs": [
    {
     "data": {
      "text/html": [
       "<div>\n",
       "<style>\n",
       "    .dataframe thead tr:only-child th {\n",
       "        text-align: right;\n",
       "    }\n",
       "\n",
       "    .dataframe thead th {\n",
       "        text-align: left;\n",
       "    }\n",
       "\n",
       "    .dataframe tbody tr th {\n",
       "        vertical-align: top;\n",
       "    }\n",
       "</style>\n",
       "<table border=\"1\" class=\"dataframe\">\n",
       "  <thead>\n",
       "    <tr style=\"text-align: right;\">\n",
       "      <th></th>\n",
       "      <th>attempts</th>\n",
       "      <th>problem_id</th>\n",
       "      <th>success</th>\n",
       "      <th>time</th>\n",
       "      <th>username</th>\n",
       "    </tr>\n",
       "  </thead>\n",
       "  <tbody>\n",
       "    <tr>\n",
       "      <th>0</th>\n",
       "      <td>1</td>\n",
       "      <td>61c79de13bf845a3afa9202995837c1a</td>\n",
       "      <td>correct</td>\n",
       "      <td>2015-06-02 19:17:18.359423</td>\n",
       "      <td>username_589385345</td>\n",
       "    </tr>\n",
       "    <tr>\n",
       "      <th>1</th>\n",
       "      <td>1</td>\n",
       "      <td>2053e2db1881424980ca3ce38a916437</td>\n",
       "      <td>correct</td>\n",
       "      <td>2015-06-02 19:18:37.946467</td>\n",
       "      <td>username_589385345</td>\n",
       "    </tr>\n",
       "    <tr>\n",
       "      <th>2</th>\n",
       "      <td>1</td>\n",
       "      <td>b8ca0effd8db42dba28d14a90cbc1163</td>\n",
       "      <td>correct</td>\n",
       "      <td>2015-06-02 19:20:14.095355</td>\n",
       "      <td>username_102109850</td>\n",
       "    </tr>\n",
       "    <tr>\n",
       "      <th>3</th>\n",
       "      <td>1</td>\n",
       "      <td>b8ca0effd8db42dba28d14a90cbc1163</td>\n",
       "      <td>incorrect</td>\n",
       "      <td>2015-06-02 19:21:55.483060</td>\n",
       "      <td>username_234891911</td>\n",
       "    </tr>\n",
       "    <tr>\n",
       "      <th>4</th>\n",
       "      <td>2</td>\n",
       "      <td>b8ca0effd8db42dba28d14a90cbc1163</td>\n",
       "      <td>correct</td>\n",
       "      <td>2015-06-02 19:22:05.874960</td>\n",
       "      <td>username_234891911</td>\n",
       "    </tr>\n",
       "  </tbody>\n",
       "</table>\n",
       "</div>"
      ],
      "text/plain": [
       "   attempts                        problem_id    success  \\\n",
       "0         1  61c79de13bf845a3afa9202995837c1a    correct   \n",
       "1         1  2053e2db1881424980ca3ce38a916437    correct   \n",
       "2         1  b8ca0effd8db42dba28d14a90cbc1163    correct   \n",
       "3         1  b8ca0effd8db42dba28d14a90cbc1163  incorrect   \n",
       "4         2  b8ca0effd8db42dba28d14a90cbc1163    correct   \n",
       "\n",
       "                         time            username  \n",
       "0  2015-06-02 19:17:18.359423  username_589385345  \n",
       "1  2015-06-02 19:18:37.946467  username_589385345  \n",
       "2  2015-06-02 19:20:14.095355  username_102109850  \n",
       "3  2015-06-02 19:21:55.483060  username_234891911  \n",
       "4  2015-06-02 19:22:05.874960  username_234891911  "
      ]
     },
     "execution_count": 6,
     "metadata": {},
     "output_type": "execute_result"
    }
   ],
   "source": [
    "\"\"\"Read saved file of problem check events only\"\"\"\n",
    "\n",
    "df=pd.read_csv(data_dir+'delft_15_DKTrequired_data.csv')\n",
    "df.head()\n"
   ]
  },
  {
   "cell_type": "code",
   "execution_count": 7,
   "metadata": {},
   "outputs": [
    {
     "data": {
      "text/plain": [
       "(683319, 5)"
      ]
     },
     "execution_count": 7,
     "metadata": {},
     "output_type": "execute_result"
    }
   ],
   "source": [
    "df.shape"
   ]
  },
  {
   "cell_type": "code",
   "execution_count": 8,
   "metadata": {
    "collapsed": true
   },
   "outputs": [],
   "source": [
    "unique_user_id =set(filter(lambda x: x is not None, df['username'].tolist()))"
   ]
  },
  {
   "cell_type": "code",
   "execution_count": 9,
   "metadata": {},
   "outputs": [
    {
     "data": {
      "text/plain": [
       "9242"
      ]
     },
     "execution_count": 9,
     "metadata": {},
     "output_type": "execute_result"
    }
   ],
   "source": [
    "len(unique_user_id)"
   ]
  },
  {
   "cell_type": "code",
   "execution_count": 10,
   "metadata": {
    "collapsed": true
   },
   "outputs": [],
   "source": [
    "\n",
    "# for username,group in df.groupby(\"username\"):\n",
    "# #     print(username,group)\n",
    "#     group=group.sort_values('time')\n",
    "# #     #convert sorted time to timestep\n",
    "#     group[\"timestep\"]=list(range(len(group[\"time\"])))\n"
   ]
  },
  {
   "cell_type": "code",
   "execution_count": 11,
   "metadata": {},
   "outputs": [
    {
     "data": {
      "text/plain": [
       "count    9242.000000\n",
       "mean       73.936269\n",
       "std       148.752446\n",
       "min         1.000000\n",
       "25%         5.000000\n",
       "50%        15.000000\n",
       "75%        41.000000\n",
       "max       845.000000\n",
       "Name: time, dtype: float64"
      ]
     },
     "execution_count": 11,
     "metadata": {},
     "output_type": "execute_result"
    }
   ],
   "source": [
    "# get idea about number of timesteps for each users\n",
    "df.groupby('username')['time'].count().describe()"
   ]
  },
  {
   "cell_type": "code",
   "execution_count": 12,
   "metadata": {
    "scrolled": false
   },
   "outputs": [
    {
     "data": {
      "text/plain": [
       "' Also we can create more datapoints by \\nbreaking large sequences into small length \\ni.e multiple sequences per student '"
      ]
     },
     "execution_count": 12,
     "metadata": {},
     "output_type": "execute_result"
    }
   ],
   "source": [
    "\"\"\"CONVERT TIME TO TIMESTEPS\"\"\"\n",
    "def create_timesteps_truncated(group,limit=100):\n",
    "#     print(group)\n",
    "    group=group.sort_values('time')\n",
    "#     assign timesteps from 1..\n",
    "    indices=list(range(1,len(group[\"time\"])))\n",
    "    length=len(indices)\n",
    "    if length>limit:\n",
    "#         print(length)\n",
    "#         set all other timesteps to 0\n",
    "        indices[limit:]=[0]*(length-limit)\n",
    "    group[\"timesteps\"]=indices\n",
    "    return group\n",
    "\n",
    "\n",
    "df=df.groupby(\"username\").apply(lambda group : create_timesteps_truncated(group))\n",
    "# df.to_csv(\"delft_15_problems_with_timestepnn.csv\", index=False)\n",
    "\n",
    "\"\"\" Also we can create more datapoints by \n",
    "breaking large sequences into small length \n",
    "i.e multiple sequences per student \"\"\""
   ]
  },
  {
   "cell_type": "code",
   "execution_count": 13,
   "metadata": {
    "collapsed": true
   },
   "outputs": [],
   "source": [
    "# for username,group in df.groupby(\"username\"):\n",
    "# # #     print(username,group)\n",
    "# #     group=group.sort_values('time')\n",
    "# #     #convert sorted time to timestep\n",
    "#     group=create_timesteps(group)\n",
    "#     print(group)\n",
    "#     break"
   ]
  },
  {
   "cell_type": "code",
   "execution_count": 14,
   "metadata": {},
   "outputs": [
    {
     "data": {
      "text/plain": [
       "count    683319.000000\n",
       "mean         15.268159\n",
       "std          26.072068\n",
       "min           0.000000\n",
       "25%           0.000000\n",
       "50%           0.000000\n",
       "75%          20.000000\n",
       "max         100.000000\n",
       "Name: timesteps, dtype: float64"
      ]
     },
     "execution_count": 14,
     "metadata": {},
     "output_type": "execute_result"
    }
   ],
   "source": [
    "df.timesteps.describe()"
   ]
  },
  {
   "cell_type": "code",
   "execution_count": 15,
   "metadata": {},
   "outputs": [
    {
     "data": {
      "text/plain": [
       "(289402, 6)"
      ]
     },
     "execution_count": 15,
     "metadata": {},
     "output_type": "execute_result"
    }
   ],
   "source": [
    "# get rows where timstep is valid \n",
    "dfvalid=df[df['timesteps']!=0]\n",
    "dfvalid.shape\n"
   ]
  },
  {
   "cell_type": "code",
   "execution_count": 16,
   "metadata": {
    "scrolled": true
   },
   "outputs": [
    {
     "data": {
      "text/html": [
       "<div>\n",
       "<style>\n",
       "    .dataframe thead tr:only-child th {\n",
       "        text-align: right;\n",
       "    }\n",
       "\n",
       "    .dataframe thead th {\n",
       "        text-align: left;\n",
       "    }\n",
       "\n",
       "    .dataframe tbody tr th {\n",
       "        vertical-align: top;\n",
       "    }\n",
       "</style>\n",
       "<table border=\"1\" class=\"dataframe\">\n",
       "  <thead>\n",
       "    <tr style=\"text-align: right;\">\n",
       "      <th></th>\n",
       "      <th></th>\n",
       "      <th>attempts</th>\n",
       "      <th>problem_id</th>\n",
       "      <th>success</th>\n",
       "      <th>time</th>\n",
       "      <th>username</th>\n",
       "      <th>timesteps</th>\n",
       "    </tr>\n",
       "    <tr>\n",
       "      <th>username</th>\n",
       "      <th></th>\n",
       "      <th></th>\n",
       "      <th></th>\n",
       "      <th></th>\n",
       "      <th></th>\n",
       "      <th></th>\n",
       "      <th></th>\n",
       "    </tr>\n",
       "  </thead>\n",
       "  <tbody>\n",
       "    <tr>\n",
       "      <th rowspan=\"5\" valign=\"top\">username_100663505</th>\n",
       "      <th>257108</th>\n",
       "      <td>1</td>\n",
       "      <td>e2ba3922c9374e089f30b068cd59eb85</td>\n",
       "      <td>correct</td>\n",
       "      <td>2015-09-17 20:15:19.860762</td>\n",
       "      <td>username_100663505</td>\n",
       "      <td>1</td>\n",
       "    </tr>\n",
       "    <tr>\n",
       "      <th>257109</th>\n",
       "      <td>1</td>\n",
       "      <td>a5e8909e66554554bd5517b8cf1fbb25</td>\n",
       "      <td>correct</td>\n",
       "      <td>2015-09-17 20:16:49.305596</td>\n",
       "      <td>username_100663505</td>\n",
       "      <td>2</td>\n",
       "    </tr>\n",
       "    <tr>\n",
       "      <th>255564</th>\n",
       "      <td>1</td>\n",
       "      <td>2d876aa861ae454589d96e80aa6e82fe</td>\n",
       "      <td>correct</td>\n",
       "      <td>2015-09-17 20:22:07.486771</td>\n",
       "      <td>username_100663505</td>\n",
       "      <td>3</td>\n",
       "    </tr>\n",
       "    <tr>\n",
       "      <th>255558</th>\n",
       "      <td>1</td>\n",
       "      <td>e45fa5e2a8e14f7cbdbe6e1a662a63c8</td>\n",
       "      <td>correct</td>\n",
       "      <td>2015-09-17 20:25:04.750014</td>\n",
       "      <td>username_100663505</td>\n",
       "      <td>4</td>\n",
       "    </tr>\n",
       "    <tr>\n",
       "      <th>255559</th>\n",
       "      <td>1</td>\n",
       "      <td>191a76b3412d4eb284583ab90ab16899</td>\n",
       "      <td>correct</td>\n",
       "      <td>2015-09-17 20:26:25.969085</td>\n",
       "      <td>username_100663505</td>\n",
       "      <td>5</td>\n",
       "    </tr>\n",
       "  </tbody>\n",
       "</table>\n",
       "</div>"
      ],
      "text/plain": [
       "                           attempts                        problem_id  \\\n",
       "username                                                                \n",
       "username_100663505 257108         1  e2ba3922c9374e089f30b068cd59eb85   \n",
       "                   257109         1  a5e8909e66554554bd5517b8cf1fbb25   \n",
       "                   255564         1  2d876aa861ae454589d96e80aa6e82fe   \n",
       "                   255558         1  e45fa5e2a8e14f7cbdbe6e1a662a63c8   \n",
       "                   255559         1  191a76b3412d4eb284583ab90ab16899   \n",
       "\n",
       "                           success                        time  \\\n",
       "username                                                         \n",
       "username_100663505 257108  correct  2015-09-17 20:15:19.860762   \n",
       "                   257109  correct  2015-09-17 20:16:49.305596   \n",
       "                   255564  correct  2015-09-17 20:22:07.486771   \n",
       "                   255558  correct  2015-09-17 20:25:04.750014   \n",
       "                   255559  correct  2015-09-17 20:26:25.969085   \n",
       "\n",
       "                                     username  timesteps  \n",
       "username                                                  \n",
       "username_100663505 257108  username_100663505          1  \n",
       "                   257109  username_100663505          2  \n",
       "                   255564  username_100663505          3  \n",
       "                   255558  username_100663505          4  \n",
       "                   255559  username_100663505          5  "
      ]
     },
     "execution_count": 16,
     "metadata": {},
     "output_type": "execute_result"
    }
   ],
   "source": [
    "dfvalid.head()"
   ]
  },
  {
   "cell_type": "code",
   "execution_count": 17,
   "metadata": {
    "collapsed": true
   },
   "outputs": [],
   "source": [
    "assistment_df= dfvalid.pivot(index='username', columns='timesteps', values='problem_id')"
   ]
  },
  {
   "cell_type": "code",
   "execution_count": 18,
   "metadata": {},
   "outputs": [
    {
     "data": {
      "text/plain": [
       "(9242, 100)"
      ]
     },
     "execution_count": 18,
     "metadata": {},
     "output_type": "execute_result"
    }
   ],
   "source": [
    "assistment_df.shape"
   ]
  },
  {
   "cell_type": "code",
   "execution_count": 19,
   "metadata": {
    "collapsed": true
   },
   "outputs": [],
   "source": [
    "# assistment_df.isnull().sum()"
   ]
  },
  {
   "cell_type": "markdown",
   "metadata": {},
   "source": [
    "### Replace id with integer numbers"
   ]
  },
  {
   "cell_type": "code",
   "execution_count": 11,
   "metadata": {
    "collapsed": true
   },
   "outputs": [],
   "source": [
    "# Convert problem Ids to unique number\n",
    "def get_xml_files(path):\n",
    "    \"\"\"\n",
    "    1st method Getting unique problem ids from xml of problem files\n",
    "    \"\"\"\n",
    "    xml_list=[]\n",
    "    xml_dict = {}\n",
    "    file_no=0\n",
    "    for filename in os.listdir(path):\n",
    "# to ensure no two problem ids have same name\n",
    "        if filename.endswith(\".xml\") and filename not in xml_list :\n",
    "#save file name without \n",
    "            xml_list.append(filename[:-4]) \n",
    "            xml_dict[filename[:-4]]=file_no\n",
    "            file_no+=1\n",
    "            \n",
    "    # save SKILL DICT FILE\n",
    "    with open(data_dir+'skill_dict_delft.json', 'w') as fp:\n",
    "        json.dump(problem_xml_dict, fp)\n",
    "    return xml_dict\n",
    "\n",
    "\n",
    "# problem_xml_dict_15=get_xml_files(\"../data/DelftX-AE1110x-2T2015/problem\")\n",
    "# problem_xml_dict=get_xml_files(\"../data/DelftX-AE1110x-1T2014/problem\")\n",
    "# correctness={\"correct\":int(1),\"incorrect\":int(0)}\n",
    "\n",
    "# # # speed efficient than pandas unique command\n",
    "# # \"\"\"2nd method Getting unique problems from log data\"\"\"\n",
    "# # unique_problem_id =set(filter(lambda x: x is not None, df['problem_id'].tolist()))\n",
    "# # problem_id_dict={problem_id: int(index+1) for index, problem_id in enumerate(unique_problem_id)}\n",
    "\n",
    "# #  USE SAME DICTIONARY FOR BOTH COURSES\n",
    "# # with open(data_dir+'skill_dict_delft_15.json', 'w') as fp:\n",
    "# #     json.dump(problem_id_dict, fp)\n",
    "# # # set correctness dictionary\n",
    "correctness={\"correct\":int(1),\"incorrect\":int(0)}\n"
   ]
  },
  {
   "cell_type": "code",
   "execution_count": 16,
   "metadata": {},
   "outputs": [
    {
     "data": {
      "text/plain": [
       "{u'0106323fe2f34b9dafd2dce56a9c6bf3': 15,\n",
       " u'0199bd01718b48b881d106c5690cf623': 5,\n",
       " u'019efe43d6f5434ba547bdb63aa4f218': 258,\n",
       " u'01a8694e166a497aa60e26f6aadfee0a': 120,\n",
       " u'02368d76692b4b0e8cff184ae08fea6e': 85,\n",
       " u'028b0ea764aa47eb9ef52507cba16459': 40,\n",
       " u'02de428bbe524545a85cc91d7a44dbc8': 16,\n",
       " u'03856c35c3904976bd829d2d3e18cbe7': 23,\n",
       " u'0473be6d3d1d4bec9f2778651743020e': 20,\n",
       " u'06f2d79163044288a6c8b2801b6b3c66': 308,\n",
       " u'090fdd1f76944fee8449bc07f4250bbf': 30,\n",
       " u'097c1f81e2a1482baba1198724095d16': 99,\n",
       " u'0b7a393864d842bd92fcd1082cc1186d': 288,\n",
       " u'0c0c6457408e4ab19f2fb2cea2f7f16b': 92,\n",
       " u'0caa402c9bbc495b8504c239d4c9de8a': 143,\n",
       " u'0e3d146751a24a93b5639f74ed3a072f': 309,\n",
       " u'0eb7f6fe2c7e452280fd75382286b77f': 220,\n",
       " u'0fa310e8660d497097c64c10818e4a6c': 108,\n",
       " u'0fb126958a83488698b4086eb7058afa': 167,\n",
       " u'106e84ede5c94f5f8c91d3d5e1c2a11c': 322,\n",
       " u'106f24b51a5440d58da99918a614e419': 290,\n",
       " u'10a9ca27349f4e698c5e259e92746090': 166,\n",
       " u'1119072395d7442d91369a8f7ed0dbf5': 277,\n",
       " u'13d37e77344046b8b89b385d3f3936d7': 114,\n",
       " u'14347ec897ef4e6f96b8e165a9729ad4': 88,\n",
       " u'14f01c7802084b0c9c6f7f8b6e0268be': 321,\n",
       " u'1901836fa9da4e2192f7efe5f7e51975': 146,\n",
       " u'191a76b3412d4eb284583ab90ab16899': 302,\n",
       " u'1aa973addcc1482588918d2d44811123': 243,\n",
       " u'1b249ea09c074743b88eb16d91317393': 218,\n",
       " u'1e7bad627320471eba5e881c52ec35f7': 283,\n",
       " u'1ec10c4d677c435aaec9b1de96baaaf3': 234,\n",
       " u'2053e2db1881424980ca3ce38a916437': 324,\n",
       " u'2104f31e1a564743961dc9927e89aed9': 47,\n",
       " u'212ee63edff84d70b8791c401b37d432': 58,\n",
       " u'23616c18f95b43a49d4c90e8f86bc952': 8,\n",
       " u'24a0a0ee332f463ba6ad23f31f51759f': 6,\n",
       " u'25eadfc7d12d4919b7729b20a8203c3a': 68,\n",
       " u'25fd458192eb462083013d62aa5fc519': 79,\n",
       " u'262bfe04a37f4619acd9e35d88c56c6c': 300,\n",
       " u'27b146ac218f4c35bf48a889dcef69cf': 269,\n",
       " u'28dff8aa60df478e85a6e2f08c5e9366': 171,\n",
       " u'2bd95e9d49f24144bc824045613edfc2': 247,\n",
       " u'2c8e0b02013d49b288505bc93cd50f7d': 122,\n",
       " u'2d1c1f5273574e8daf46ffd0d97fcd14': 60,\n",
       " u'2d21437188af4e62a21d58766804feef': 186,\n",
       " u'2d2e5c25eae14d1f90d426e87982e62d': 336,\n",
       " u'2d876aa861ae454589d96e80aa6e82fe': 51,\n",
       " u'2db4e2b9f0ac478dbd8d9c7e70c7a756': 128,\n",
       " u'2e46c13f870a496586489813d24a97ec': 144,\n",
       " u'2e543fc213af4dbd9f0868d3225fa858': 209,\n",
       " u'2faf799c7f414e55b465c46916b9f970': 210,\n",
       " u'32113af482b14d4cb919b473947aa894': 127,\n",
       " u'344a33880e854463a9eccb8511ccf5c8': 183,\n",
       " u'3476d6b4cb0945b9a8d232ffaac87c3b': 72,\n",
       " u'349dd9cff93649bd8d0c2642877b5a41': 175,\n",
       " u'35c02dde627140f2807ceaa2a75fb322': 94,\n",
       " u'36e8904382ae4dbc8e2a6f39cb6a7e55': 313,\n",
       " u'373bffa2c4fd47fa92eca0c8140ee21e': 162,\n",
       " u'3a04f78347884ed4bb4a6bd6dbfbb36b': 57,\n",
       " u'3a244eebb1c64555b1e5fd88d327d6fe': 192,\n",
       " u'3a251ece9db140bdb37df2a37c4d9996': 268,\n",
       " u'3a334e73a64f45a0883dc3c9300f077c': 226,\n",
       " u'3b964dabd43d4ca98e428406addf87c0': 37,\n",
       " u'3bf1e97ca4e04d49a84b60ca30d01883': 159,\n",
       " u'3bfd9d96121448f0bfc03365d1eb78c6': 164,\n",
       " u'3cf4eef57c3e49e98d6b2553e748badc': 196,\n",
       " u'3cfe4f99052048b19322cfa5da782197': 24,\n",
       " u'3df459d4a7b94ef79e0300f39517ef91': 105,\n",
       " u'3e52e831683f41ff877d0c4db0a12c79': 22,\n",
       " u'3f4eb850051b40e8b4ce82acbcad67b2': 262,\n",
       " u'3f6aa3c1680948f3be1289572fceaabb': 180,\n",
       " u'3fcf0fcd8fbf499a8632d51f99857c24': 124,\n",
       " u'41e37dff92c141f4991beaceced5f553': 292,\n",
       " u'426c61e3025348b2ad13e9dc946ff213': 165,\n",
       " u'43208a1301fe4a16ad01e54d9cad1a0a': 299,\n",
       " u'435247c2f09f414f935cda682a2ea94b': 163,\n",
       " u'43b9eb74ef664cd8801bf7a22b75c90d': 252,\n",
       " u'44e8e3b6690941c3b1cddf8e764a689c': 303,\n",
       " u'474ceffcf74b4baba2774e97f4ab0bf8': 35,\n",
       " u'4780859c277d471881bef38fd71f6a1c': 97,\n",
       " u'48a6ca0a545349b48bf9b580d8411e7e': 241,\n",
       " u'4a60b023c6a34121a4b46620a2f1304c': 74,\n",
       " u'4b6002cf857c4aa6a9792ea35200e853': 32,\n",
       " u'4c13528926b84801802211ecfbb385d1': 126,\n",
       " u'4c1f779d45f64a778c48bc2ac994fe79': 236,\n",
       " u'4d8b4fc003fd48f0a7dad4249d57438c': 242,\n",
       " u'4ea6112823814001bbf1eb942561cad9': 235,\n",
       " u'4eed2659ba8b4220a8cd41c0a27133a3': 12,\n",
       " u'4f729a5c3fbf4fed94069ff598a00a50': 82,\n",
       " u'4fa0025551724207a3ed7b91205a4723': 54,\n",
       " u'4ff7d09a993d4c51967a823c9d1c8af5': 111,\n",
       " u'501c8c36938b4ddb8d5b4827af523045': 271,\n",
       " u'50316af298c64fa9ae2f70e64010ac5c': 280,\n",
       " u'52a27ad6ae0345288586f6a278275970': 172,\n",
       " u'52ee36fa989740e3ad2422cbfbf494b0': 160,\n",
       " u'54e2231f1a364ab58abcea20125f3b68': 64,\n",
       " u'5547aaec95c8482295fa0ec770149ce0': 98,\n",
       " u'55dd3dda2d82478ea21c311196014a1a': 62,\n",
       " u'5648652471f0438b8e1e61312e4562e6': 73,\n",
       " u'58927a6a140e4a19962c985018c3d125': 249,\n",
       " u'58d68261634d473cb75db6b6c46d6ee0': 7,\n",
       " u'591fc5eb4a5049dbb4bc448bbb71b300': 133,\n",
       " u'5a06f0135c9c46a1843767519726753c': 14,\n",
       " u'5a39aea1cd2d4da6aec46db484795960': 13,\n",
       " u'5a7b797536e44c2085726732b06ecf2b': 116,\n",
       " u'5ad61d724fb849f68dac738f5e4d6b0b': 53,\n",
       " u'5bf10af61a854016a865d16dafd3729e': 214,\n",
       " u'6057ed87052c4aa3835ad5e30b91863d': 287,\n",
       " u'61c79de13bf845a3afa9202995837c1a': 320,\n",
       " u'63c5447f253b4341b1cfc209e1f052dd': 49,\n",
       " u'644dd012797d48f6b45364830830e290': 21,\n",
       " u'64578091363a4a46a6fc05d81d658b79': 187,\n",
       " u'64abfc3a1edf4d73b52d7eb6c597dad3': 138,\n",
       " u'64b427dee3e94fc4b484aca66410fd7d': 251,\n",
       " u'64c8d46b7a784ce196c3fa0b9feca0b4': 263,\n",
       " u'654330c5876d4857bc1c326e61780db5': 44,\n",
       " u'6588269428a846a9a266cc702896b1ea': 86,\n",
       " u'6636f73d28a34b43842af563268d3ca6': 152,\n",
       " u'66d50ad1d24846858bc583ac9044a665': 103,\n",
       " u'6775338ef2f2489290e8674ce087ae57': 42,\n",
       " u'6981ed7da27342dfa974f8a01d18a051': 221,\n",
       " u'69ece607a7fb438ca0f20d0e7d01f64f': 195,\n",
       " u'6b7f4bae54b748bab5246e5ae7bb0596': 25,\n",
       " u'6bb1ac1e4e2141a0bdce68a7debe44b2': 223,\n",
       " u'6de32bcebff64efea205bedd28221ab1': 206,\n",
       " u'6faec79f96404f12bc6b4b225db8ecad': 244,\n",
       " u'6fe250ee78064001b289a57c6bb4022e': 110,\n",
       " u'707f78b8601d41c393d29c8a3801817e': 115,\n",
       " u'70ca84d10fbb470ab213dd3f71e18652': 178,\n",
       " u'717e3e7f0ffa44a1adf17ba4c5c01480': 293,\n",
       " u'72346928d69247b2bab1845e294646fa': 3,\n",
       " u'724916cea4db46c1bc93493456173c4d': 89,\n",
       " u'727b3059946b4040b397e38e8d959228': 257,\n",
       " u'72a5782fc423496c9e576e8dd2d843e7': 185,\n",
       " u'734f991addc64f37910bd798619f5be7': 176,\n",
       " u'73789f7b844e48ac9197886c783a18fa': 70,\n",
       " u'73fe7a41ee184086b5fce96389a9ff62': 245,\n",
       " u'7404ae9dca0249d1996f5a9577d34410': 228,\n",
       " u'741f665b1a8245deb7c2299d7af13e1c': 106,\n",
       " u'7453da62ea5f4a1e9d5ed0ccf326f687': 38,\n",
       " u'74940dd2f53141e3a5e48ac7e8019b49': 150,\n",
       " u'77302621cc8c4f148ebffed164a39f67': 33,\n",
       " u'77be76c1f87e498a8f71c0013ea5f275': 179,\n",
       " u'783cb818bb2248e7aeb3ef2b35be06e0': 80,\n",
       " u'786fa37361bc443ab96899889f7ee5f3': 256,\n",
       " u'78979bc3ac9b4e228818d9246960173d': 238,\n",
       " u'79d09cd9bda5489d889822ec9e78aeca': 227,\n",
       " u'7a316521ee7b48cf9276d3ccc932d06d': 27,\n",
       " u'7af94ab2eb7f40ed85a3577a388b1536': 278,\n",
       " u'7c0202c0ff0d4c00a0d0e5657ce3ee53': 117,\n",
       " u'7c1ec34b0ca54051875a7ca56b895c5f': 151,\n",
       " u'7c633cd8438c48c29482e24155be8c4b': 139,\n",
       " u'7ef58ec1348e4860a6342c621c65c8a3': 231,\n",
       " u'7f139aeb609a40a0a847eaa8418dc61c': 229,\n",
       " u'7f4e835f9f744acbba759e0c92831398': 282,\n",
       " u'7f6dff6f3d784c0d92bcd58646fb6c60': 118,\n",
       " u'7f8a64bbb98b42fe8afe60fa24d1162a': 190,\n",
       " u'7fa9008c65df45b2a5adfbf2719c3b53': 52,\n",
       " u'801d962c31074d6cba5cae7d2c383554': 326,\n",
       " u'81a30830bf6c4d329560ef8f1326d074': 36,\n",
       " u'82e65a8fad6b4ec38c26afa46e3a09e8': 181,\n",
       " u'82f1d616e3f7495d998d3881ab1c5e44': 246,\n",
       " u'851c6247788b4bc1a0ff832231f61f89': 63,\n",
       " u'85d1c89eb812461d856d84e8cea27820': 113,\n",
       " u'85e2aab44d7d4ac2a9f33b7bdcc856e2': 112,\n",
       " u'8622b2e8013c44f29bcd34903fcc861a': 123,\n",
       " u'866eee0ec90c4cd08f840966d9629caf': 201,\n",
       " u'86c69735af994909baf7e5bd4efa80eb': 289,\n",
       " u'88623a3e2a294f58855db6857b493804': 67,\n",
       " u'8a438bdf812149d8a63bf2f9e6b4ad49': 323,\n",
       " u'8c0a009d82344dbbb25fef04ea1087ce': 83,\n",
       " u'8d3eadbeae5e4dbaad158a9122cb41c2': 10,\n",
       " u'8d7cb95b233640ed8773be5b9745915a': 87,\n",
       " u'8e75dbd9c9c24f2d94c77c07f436d6e7': 130,\n",
       " u'8e7e81c3f59a44ebb6034ab9cbaa5304': 207,\n",
       " u'8f26e3f52e8b410ab3916ea3b9afb1a7': 148,\n",
       " u'8f5d0221aaee438ca120d36a6b2f7555': 45,\n",
       " u'8f68647c83414c4fbb22ddf77346dbb5': 267,\n",
       " u'902ec21c1b1041bab1e68c9cd04dfa27': 29,\n",
       " u'90398bf8a6954a5f9f31feb2926dd1b5': 154,\n",
       " u'9343d3709d5b4bbcb5b338b150580cec': 255,\n",
       " u'939303e3f63146afb8f3e6990b2fbb7f': 233,\n",
       " u'93969f564b844020842a7c84a722f441': 276,\n",
       " u'942db2d6f2d64d109b8be0595a51e3e1': 279,\n",
       " u'95d86ca102d14b34973e770939dfc968': 305,\n",
       " u'96375285b2db45d1829b161457a6354e': 272,\n",
       " u'970e822de16b4c0bbd20a7a2beaac245': 260,\n",
       " u'973407fba1b74f6e8cbf86c8450c6fa3': 131,\n",
       " u'974499bcfcb64529a669ccbe9d58a451': 215,\n",
       " u'9875a69ca03f4925b51b856c3d5f55d0': 317,\n",
       " u'994f866a9e30429d81d108d42b49e5de': 193,\n",
       " u'9969a3aa02fd49598cd8395cf35989aa': 202,\n",
       " u'99b078df3dba4ccb9e934d97170291ba': 90,\n",
       " u'9a0abf8790af455faa4f91019556bda3': 318,\n",
       " u'9ad73a9b33df4734869b45df1d24ab5e': 81,\n",
       " u'9b925286149342fcb5c7258bc5433872': 135,\n",
       " u'9c16133477964f638288854c9848f3e9': 121,\n",
       " u'9cc901ae340c4134904626c159477140': 284,\n",
       " u'9ecf131c0f3e417aa270a9049c122c2e': 141,\n",
       " u'9f198e1edbf34735a0f0acef10cf26aa': 188,\n",
       " u'a00b9dff376148e1978204c47a37d726': 174,\n",
       " u'a0aec91e76c248e2bb6df90882236f90': 240,\n",
       " u'a0fe8322f63e4933a0c51a13187e7bbf': 275,\n",
       " u'a15ba84638e04706b09568473d40e3d0': 216,\n",
       " u'a1dc0a844b2c4552ab171b217ef61c1d': 76,\n",
       " u'a2ace1a5e4694ad9b42791ae13a432a0': 312,\n",
       " u'a2fc54e7945d483c886e36a5d88fafb0': 306,\n",
       " u'a3539cf9c7784f9b94934fa04bdfbf9c': 222,\n",
       " u'a49101a8e0804503805c3dcbebbefd7d': 161,\n",
       " u'a5a68a46a6a849e3a2a14f4a745e5b64': 46,\n",
       " u'a5e8909e66554554bd5517b8cf1fbb25': 327,\n",
       " u'a7bce4f668334903ba35f69f884a751a': 17,\n",
       " u'a7fbce0ad65841e98b300b50ae436646': 95,\n",
       " u'a929fa91f9654190a6dfecd7a5f9fa38': 297,\n",
       " u'a985d5ecfa9e4a57ae3a5ce86dbb38c4': 65,\n",
       " u'a9de8d0caf104a99b932efc99c64a28d': 316,\n",
       " u'aa21b57742a44f7b8f8678b58e7ae647': 78,\n",
       " u'aa5b9560f4fc40808352289c6260574e': 264,\n",
       " u'ab453cb6fb3d4bc3b663d12eb6a4d34f': 224,\n",
       " u'abe34132acc3436ca2338bfbb56eefe0': 199,\n",
       " u'adf061c7cd9e41ab88f4638944d55aee': 270,\n",
       " u'ae1e444bc21d4834bc2ec371fc9aed2a': 291,\n",
       " u'ae4466f172494dacb986a01fafafae88': 137,\n",
       " u'affa1f0d7a484284af6f73b422c6a505': 237,\n",
       " u'b0056b585a3e4fc6a27c3fb80acc2a70': 61,\n",
       " u'b0662212753347ff875ae0fe54e78cf2': 217,\n",
       " u'b144927e348042729bb036613321d8fe': 197,\n",
       " u'b154c40f0bf84daf8b622617f1d5d59a': 155,\n",
       " u'b174bd5123424df0bcda9af4f18b522c': 219,\n",
       " u'b18a54da3a1a4a328f3a10a1b33944b0': 59,\n",
       " u'b2e0b3d335f640ff803fc78077448101': 56,\n",
       " u'b2ef26976249419c97453bb81526679b': 230,\n",
       " u'b31375f07d5140b29e2b60664b3e882a': 285,\n",
       " u'b4679bf01ec64dd2b10d25dde4a27894': 100,\n",
       " u'b55f2e2c515d46a19490cb810bb3f7b0': 211,\n",
       " u'b5b5ced631c9416ca98e7c93b824cfcc': 4,\n",
       " u'b8ca0effd8db42dba28d14a90cbc1163': 281,\n",
       " u'b91ef2aa48dc4a76ab0f4988c3c600fe': 34,\n",
       " u'b95a271e99754f4782537f05b88da5bd': 48,\n",
       " u'ba7bca61065143cca63f50d862bdd144': 200,\n",
       " u'bb168182e4ff4c009e26d6be40485fbc': 129,\n",
       " u'bb5519c07f4e43028501b9debc991ed2': 107,\n",
       " u'bc132f4992fe4cbb96209d295fc64d30': 296,\n",
       " u'bc1f1ae690484738b37a4f0f7bd9a39a': 330,\n",
       " u'bc429ccbf3634daeb5b052b97041901a': 334,\n",
       " u'bdcea126c20e43b1af4ddf86b25fea0f': 1,\n",
       " u'be58011ba8774d0186889d7a561ee235': 101,\n",
       " u'be7546ed4dd84954a6d298c29bad7e61': 295,\n",
       " u'c06db6ce78544636b9d96c095168beaa': 71,\n",
       " u'c0d4084bc84e446d8b3ebb6307dcd585': 254,\n",
       " u'c31ff5604239427e9cfffde2cfb2ce14': 212,\n",
       " u'c40ca67ad8904a7c8f997bea4244874e': 9,\n",
       " u'c522dac354c249a4b2b083cda83efc17': 125,\n",
       " u'c75e19ca14fa4928aa5e0542eb9ae8e7': 69,\n",
       " u'c7fc42c4706040db9ff1041d5fd457a9': 315,\n",
       " u'c9b9977db2ce4907b8c0c02074da987d': 26,\n",
       " u'caf48449e39c4debb15b3c431626c341': 319,\n",
       " u'cb1bd30d4988456ca86115d881f9fdae': 96,\n",
       " u'cbd78adb7ef24926a281afe6f971328a': 43,\n",
       " u'cbdcadc7fae241aca2092724f13c7ac8': 104,\n",
       " u'cd27a6dd63774cb6be15f63a141198ca': 286,\n",
       " u'cdbf4c6beb914b2b9becbf5eadc5b51a': 169,\n",
       " u'cdc90144b89242f89f5153399df3f432': 198,\n",
       " u'cecacdb4f41d487ebe40466e88cb5e89': 294,\n",
       " u'cecb54a663d4455684d999a856be2a1f': 205,\n",
       " u'cef0cd358313466ba7f56fcfab8353d2': 329,\n",
       " u'cef6bdda01ee486ba6a6d679d14ffb41': 142,\n",
       " u'd0244d302b5a42288ead9b34b7fe71b1': 328,\n",
       " u'd0508f86a4ea4c5ea3788ea5b24bd855': 301,\n",
       " u'd108c67efbb44069ae00d88174791ef1': 170,\n",
       " u'd1f272fc526346deaae43782e25425e2': 184,\n",
       " u'd56c87ded3b64d568026ca3d81a219da': 274,\n",
       " u'd56e255937bf4e1a9d59bbe754f735dd': 19,\n",
       " u'd7fab572dffc43f4ad97f916ec438e48': 325,\n",
       " u'd867a5eaabdb4ef09572e04182bb64dc': 182,\n",
       " u'd94bb22919274dcdba4728500be01875': 311,\n",
       " u'dad0e6aee6ce4b95b6165ee9070fe575': 298,\n",
       " u'daf1d29080f342189cd3cdc98851cf8a': 145,\n",
       " u'dbe96cece4bf4f108f62b648826f069c': 134,\n",
       " u'dd566382b18444b09ac4a9f6c2b1481e': 39,\n",
       " u'de5354cad24344799075ab8e885b06f3': 208,\n",
       " u'df5702c232374bab85ddcb7ddab0e9e1': 333,\n",
       " u'dffa23ced47f4ce38eb9d4096d52ca11': 109,\n",
       " u'e066265f61b54e5dbffaa15aa6b74916': 310,\n",
       " u'e06abd2cfb1549d9882d1f743ecf9cb4': 273,\n",
       " u'e17de522bdbd423e8b0f1760b53e7f82': 158,\n",
       " u'e2a489453a0c4ed9ac263de1dd47bd9b': 2,\n",
       " u'e2ba3922c9374e089f30b068cd59eb85': 18,\n",
       " u'e2d3a5ecb4c9483698fa43557a569d95': 136,\n",
       " u'e433bcfba4ea445da70c7b43e4e753e9': 304,\n",
       " u'e45fa5e2a8e14f7cbdbe6e1a662a63c8': 168,\n",
       " u'e4d686176c90489180298b1ad76e16d0': 213,\n",
       " u'e7ccbec01ba04468a64f344d9ce0ed82': 132,\n",
       " u'e8df64e1d91a47b58c6c3ba0b56872c1': 75,\n",
       " u'e9da44662c9346a397f0e0e527942000': 66,\n",
       " u'ea8848851a2c48a69aad627abb14a19e': 91,\n",
       " u'eaa9aa174ed841b9be2d8183ba08b5d2': 266,\n",
       " u'eb0710c210cd4f78b9ac16a151a0c071': 261,\n",
       " u'ec3cb2b15e764876a317c44e0dfea890': 11,\n",
       " u'ec486e154e364ca28c15c2d964f0647b': 204,\n",
       " u'ec913eb09969484a82987f2a29d3dd00': 253,\n",
       " u'ecaec70063ab425095058cbf0288dc0b': 177,\n",
       " u'ed0bcffb0d5442f49a5e1b046567966f': 41,\n",
       " u'edc25ca05fbc448c93fba74c01f5e3d8': 259,\n",
       " u'eeb3e4c9516240edae72b6e2bcf7b58a': 331,\n",
       " u'ef1439e53d73400e80f77ec81e22084f': 232,\n",
       " u'ef529c91443c4f34a74505fddf0b5119': 307,\n",
       " u'ef6603a14b3f4cf09da839954ad3e13f': 153,\n",
       " u'f051e56b69674a4e93ad1d1354a4ec04': 250,\n",
       " u'f0b10758cb7b4aaaae880f950d0e8d59': 239,\n",
       " u'f0e7aea2ca3945a2926227730b34f6a9': 248,\n",
       " u'f170bc51b71d49b984d9adda0e43ff73': 191,\n",
       " u'f1b71a18efa849559a2310d838f805e9': 77,\n",
       " u'f2f4450f63794f248dc1098c6b1b0c36': 332,\n",
       " u'f3c1cadc65864ab48c1348e2da80390a': 149,\n",
       " u'f45664aa182943a8aa51a05ee835bd2c': 28,\n",
       " u'f49fa13b6bbd4dbca468f5e5314c6c75': 147,\n",
       " u'f4c942e9f69e488ba942e7ac8b8a9ed2': 55,\n",
       " u'f52672dff65e46959160e268d384b161': 50,\n",
       " u'f55c3e7488d243429b2ea2adf1a46e63': 0,\n",
       " u'f60196a2e8154e5fb4dbaddbe0499919': 119,\n",
       " u'f602dba480db4c1b9259003cca3d8299': 194,\n",
       " u'f79f20296bac4a918d6bd0f88073dc94': 156,\n",
       " u'f7d86d67ee0b4a9389ef29889594269e': 189,\n",
       " u'f84bc3cd31e94283b1440fc8509a138e': 157,\n",
       " u'f9ac5276068d4630943b86f72994d23c': 140,\n",
       " u'fb6aa70a3aef40db8721a3466c79a64d': 225,\n",
       " u'fbc86b845eb14f0690f76b2abfa37eb6': 31,\n",
       " u'fccea325fd314fe4ab1aed30138a65ad': 314,\n",
       " u'fcf7db6d04a54a6083013e8dcd10883f': 265,\n",
       " u'fd86f9b1881d4bdc869ce7d36d086ce8': 203,\n",
       " u'fdd31d31d2bb45f989dedf4ddc41ad2b': 84,\n",
       " u'fe827090f14742dcad358edaf6a4d2ec': 102,\n",
       " u'ff30df914ae842ec90fba38b440e19e3': 173,\n",
       " u'ffbbe5ac261940a795ebbc9f06989244': 93}"
      ]
     },
     "execution_count": 16,
     "metadata": {},
     "output_type": "execute_result"
    }
   ],
   "source": [
    "problem_id_dict"
   ]
  },
  {
   "cell_type": "code",
   "execution_count": 17,
   "metadata": {
    "collapsed": true
   },
   "outputs": [],
   "source": [
    "\n",
    "with open('../code/data_dkt/'+'skill_dict_delft_all_0_336_all.json', 'w') as fp:\n",
    "          json.dump(problem_id_dict, fp)\n",
    "\n"
   ]
  },
  {
   "cell_type": "code",
   "execution_count": 21,
   "metadata": {
    "collapsed": true,
    "scrolled": false
   },
   "outputs": [],
   "source": [
    "# s=0\n",
    "\n",
    "# problem_id_dict=json.load(open('../data/dktData/delft14/skill_dict_delft_14.json'))\n",
    "# for k in problem_xml_dict:\n",
    "#     if k not in problem_xml_dict_15:\n",
    "#         s+=1\n",
    "#         print(k)\n",
    "# print(s,'keys dont match')\n",
    "\n",
    "# s=0\n",
    "# for k in problem_xml_dict_15:\n",
    "#     if k not in problem_xml_dict:\n",
    "#         s+=1\n",
    "#         print(k)\n",
    "# print(s,'keys dont match')\n",
    "# s=0\n",
    "# for k in problem_id_dict:\n",
    "#     if k not in problem_xml_dict_15:\n",
    "#         s+=1\n",
    "#         print(k)\n",
    "# print(s,'keys dont match')\n"
   ]
  },
  {
   "cell_type": "code",
   "execution_count": null,
   "metadata": {
    "collapsed": true
   },
   "outputs": [],
   "source": []
  },
  {
   "cell_type": "code",
   "execution_count": null,
   "metadata": {
    "collapsed": true
   },
   "outputs": [],
   "source": [
    "# replace problem ids in dataframe above \n",
    "# error=0\n",
    "\n",
    "# for index, row in dfvalid.iterrows():\n",
    "#     try:\n",
    "#         prob_id=row[\"problem_id\"]\n",
    "#         dfvalid.loc[index,'problem_id']=problem_id_dict[prob_id]\n",
    "#         success=row['success']\n",
    "#         dfvalid.loc[index,\"success\"]=correctness[success]\n",
    "#     except:\n",
    "#         error+=1\n",
    "# print('Could not convert this number of problems: ',error)\n",
    "\n",
    "\n",
    "       \n",
    "        \n",
    "\n",
    "# df.replace({\"problem_id\":problem_xml_dict})\n",
    "\n"
   ]
  },
  {
   "cell_type": "code",
   "execution_count": 1,
   "metadata": {},
   "outputs": [
    {
     "ename": "NameError",
     "evalue": "name 'json' is not defined",
     "output_type": "error",
     "traceback": [
      "\u001b[0;31m---------------------------------------------------------------------------\u001b[0m",
      "\u001b[0;31mNameError\u001b[0m                                 Traceback (most recent call last)",
      "\u001b[0;32m<ipython-input-1-b6b63589246c>\u001b[0m in \u001b[0;36m<module>\u001b[0;34m()\u001b[0m\n\u001b[0;32m----> 1\u001b[0;31m \u001b[0mproblem_id_dict\u001b[0m\u001b[0;34m=\u001b[0m\u001b[0mjson\u001b[0m\u001b[0;34m.\u001b[0m\u001b[0mload\u001b[0m\u001b[0;34m(\u001b[0m\u001b[0mopen\u001b[0m\u001b[0;34m(\u001b[0m\u001b[0;34m'../data/dktData/skill_dict_delft_all.json'\u001b[0m\u001b[0;34m)\u001b[0m\u001b[0;34m)\u001b[0m\u001b[0;34m\u001b[0m\u001b[0m\n\u001b[0m\u001b[1;32m      2\u001b[0m \u001b[0mskill_df\u001b[0m\u001b[0;34m=\u001b[0m\u001b[0massistment_df\u001b[0m\u001b[0;34m.\u001b[0m\u001b[0mreplace\u001b[0m\u001b[0;34m(\u001b[0m\u001b[0mproblem_id_dict\u001b[0m\u001b[0;34m)\u001b[0m\u001b[0;34m\u001b[0m\u001b[0m\n\u001b[1;32m      3\u001b[0m \u001b[0mskill_df\u001b[0m\u001b[0;34m=\u001b[0m\u001b[0mskill_df\u001b[0m\u001b[0;34m.\u001b[0m\u001b[0mfillna\u001b[0m\u001b[0;34m(\u001b[0m\u001b[0;36m0\u001b[0m\u001b[0;34m)\u001b[0m\u001b[0;34m\u001b[0m\u001b[0m\n\u001b[1;32m      4\u001b[0m \u001b[0mskill_df\u001b[0m\u001b[0;34m=\u001b[0m\u001b[0mskill_df\u001b[0m\u001b[0;34m.\u001b[0m\u001b[0mastype\u001b[0m\u001b[0;34m(\u001b[0m\u001b[0mint\u001b[0m\u001b[0;34m)\u001b[0m\u001b[0;34m\u001b[0m\u001b[0m\n",
      "\u001b[0;31mNameError\u001b[0m: name 'json' is not defined"
     ]
    }
   ],
   "source": [
    "problem_id_dict=json.load(open('../data/dktData/skill_dict_delft_all.json'))\n",
    "skill_df=assistment_df.replace(problem_id_dict) \n",
    "skill_df=skill_df.fillna(0)\n",
    "skill_df=skill_df.astype(int)"
   ]
  },
  {
   "cell_type": "code",
   "execution_count": null,
   "metadata": {
    "collapsed": true
   },
   "outputs": [],
   "source": [
    "skill_df.shape"
   ]
  },
  {
   "cell_type": "code",
   "execution_count": null,
   "metadata": {
    "collapsed": true
   },
   "outputs": [],
   "source": [
    "skill_df.head()"
   ]
  },
  {
   "cell_type": "code",
   "execution_count": null,
   "metadata": {
    "collapsed": true
   },
   "outputs": [],
   "source": [
    "# skill_df.isnull().sum()"
   ]
  },
  {
   "cell_type": "code",
   "execution_count": null,
   "metadata": {
    "collapsed": true
   },
   "outputs": [],
   "source": [
    "\n",
    "# skill_df.to_csv(data_dir+'skill_df_delft_15.csv')"
   ]
  },
  {
   "cell_type": "code",
   "execution_count": 23,
   "metadata": {
    "collapsed": true
   },
   "outputs": [],
   "source": [
    "response_data= dfvalid.pivot(index='username', columns='timesteps', values='success')"
   ]
  },
  {
   "cell_type": "code",
   "execution_count": 26,
   "metadata": {
    "collapsed": true
   },
   "outputs": [],
   "source": [
    "response_df=response_data.replace(correctness) \n"
   ]
  },
  {
   "cell_type": "code",
   "execution_count": null,
   "metadata": {
    "collapsed": true
   },
   "outputs": [],
   "source": [
    "# response_df.head()"
   ]
  },
  {
   "cell_type": "code",
   "execution_count": 27,
   "metadata": {
    "collapsed": true
   },
   "outputs": [],
   "source": [
    "response_df=response_df.fillna(0)\n",
    "response_df=response_df.astype(int)"
   ]
  },
  {
   "cell_type": "code",
   "execution_count": 28,
   "metadata": {
    "collapsed": true
   },
   "outputs": [],
   "source": [
    "# response_df.to_csv(data_dir+'response_df_delft_15.csv')"
   ]
  },
  {
   "cell_type": "code",
   "execution_count": null,
   "metadata": {
    "collapsed": true
   },
   "outputs": [],
   "source": [
    "# COMBINE DATA:\n",
    "# SKILL14=pd.read_csv(\"../data/dktData/delft15/\")"
   ]
  }
 ],
 "metadata": {
  "kernelspec": {
   "display_name": "Python 2",
   "language": "python",
   "name": "python2"
  },
  "language_info": {
   "codemirror_mode": {
    "name": "ipython",
    "version": 2
   },
   "file_extension": ".py",
   "mimetype": "text/x-python",
   "name": "python",
   "nbconvert_exporter": "python",
   "pygments_lexer": "ipython2",
   "version": "2.7.6"
  }
 },
 "nbformat": 4,
 "nbformat_minor": 2
}
