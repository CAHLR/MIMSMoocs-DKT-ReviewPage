{
 "cells": [
  {
   "cell_type": "code",
   "execution_count": 13,
   "metadata": {},
   "outputs": [],
   "source": [
    "import pandas as pd\n",
    "import os\n",
    "import csv\n",
    "import json\n",
    "\"\"\" Replace 14 with 15 in full file, select proper log file\"\"\"\n",
    "data_dir = '../code/data_dkt/delft14_phase1/'\n",
    "prev_dir='../data/dktData/delft14/'\n",
    "# event_log = os.path.join('../data'+'/DelftX_AE1110x_2T2015-events.log')\n",
    "event_log = os.path.join('../data'+'/DelftX_AE1110x_1T2014-events.log')\n",
    "import datetime\n",
    "import pandas as pd\n",
    "import json\n",
    "import numpy as np\n",
    "\"\"\"read skill dict file delft aerospace course data\"\"\"\n",
    "problem_id_dict=json.load(open('data_dkt/delft15_phase2/skill_dict_delft_all_0_336_all.json'))\n",
    "def process_time(time):\n",
    "    return datetime.datetime.strptime(time[:-6], '%Y-%m-%dT%H:%M:%S.%f' if '.' in time[:-6] else '%Y-%m-%dT%H:%M:%S')"
   ]
  },
  {
   "cell_type": "code",
   "execution_count": 2,
   "metadata": {},
   "outputs": [
    {
     "name": "stdout",
     "output_type": "stream",
     "text": [
      "/home/sanaiqbal/moocadaptive/code\r\n"
     ]
    }
   ],
   "source": [
    "!pwd"
   ]
  },
  {
   "cell_type": "code",
   "execution_count": 2,
   "metadata": {},
   "outputs": [
    {
     "name": "stdout",
     "output_type": "stream",
     "text": [
      "delft_15_DKTrequired_data.csv\t      response_df_delft_15.csv\r\n",
      "delft_15_only_problem_check_log.json  skill_df_delft_15.csv\r\n"
     ]
    }
   ],
   "source": [
    "!ls ../data/dktData/delft15/"
   ]
  },
  {
   "cell_type": "code",
   "execution_count": 8,
   "metadata": {
    "collapsed": true
   },
   "outputs": [],
   "source": [
    "\n",
    "\"\"\"This will read log data and save problemcheck log events only\"\"\"\n",
    "def read_raw_log_file(log_file=event_log):\n",
    "\n",
    "    working_data = []\n",
    "    fail_count = 0\n",
    "    problem_check_count=0\n",
    "    with open(log_file) as data_file:\n",
    "        for line in data_file.readlines():\n",
    "            try:\n",
    "                data = json.loads(line)\n",
    "                if data['event_type']=='problem_check':\n",
    "                    working_data.append(data)\n",
    "\n",
    "                    problem_check_count+=1\n",
    "    #                     working_data.append(line)\n",
    "            except:\n",
    "                fail_count+=1\n",
    "                print(\"Failed to read line:\")\n",
    "                print(line)\n",
    "                continue\n",
    "    print(\"Number of problem check log entries:\", problem_check_count)\n",
    "    print(\"Number of failed lines: \", fail_count)\n",
    "    print(\"Length of successfuly read data: \", len(working_data))\n",
    "    # SAVE LOG DATA  OF PROBLEM CHECK STUDENTS in a json file\n",
    "    with open(data_dir+\"delft_15_only_problem_check_log.json\", 'w') as fout:\n",
    "        json.dump(working_data, fout)\n",
    "    return working_data\n",
    "# working_data=read_raw_log_file()"
   ]
  },
  {
   "cell_type": "code",
   "execution_count": null,
   "metadata": {
    "collapsed": true
   },
   "outputs": [],
   "source": []
  },
  {
   "cell_type": "code",
   "execution_count": 9,
   "metadata": {},
   "outputs": [
    {
     "data": {
      "text/plain": [
       "'load only the problem check log data if the problem check log does nt exist '"
      ]
     },
     "execution_count": 9,
     "metadata": {},
     "output_type": "execute_result"
    }
   ],
   "source": [
    "\"\"\"load only the problem check log data if the problem check log does nt exist \"\"\"\n",
    "#  run the above function: read_raw_log_file()\n",
    "# import json\n",
    "# data_problem_check = json.load(open(data_dir+'delft_15_only_problem_check_log.json'))"
   ]
  },
  {
   "cell_type": "code",
   "execution_count": 19,
   "metadata": {},
   "outputs": [],
   "source": [
    "'''#SAVE STUDENT DATA TO DATAFRAME '''\n",
    "\n",
    "# listOfRows=[]\n",
    "# for row in data_problem_check:\n",
    "#     rowdict={}\n",
    "#     rowdict[\"time\"]=process_time(row['time'])\n",
    "#     rowdict[\"username\"]=row['username']\n",
    "# \"\"\"for 2015 edit problemid using this\"\"\"\n",
    "##    rowdict['problem_id']=row['event']['problem_id'].split(\"@\")[-1])\n",
    "#     rowdict[\"problem_id\"]=row['event']['problem_id'].split(\"/\")[-1]\n",
    "#     rowdict[\"success\"]=row['event']['success']\n",
    "#     rowdict[\"attempts\"]=row['event']['attempts']\n",
    "#     listOfRows.append(rowdict)\n",
    "  \n",
    "    \n",
    "# df = pd.DataFrame(listOfRows)\n",
    "# #df.to_csv(data_dir+'delft_14_DKT_problem_data_phase1.csv',index=False)\n"
   ]
  },
  {
   "cell_type": "markdown",
   "metadata": {
    "collapsed": true
   },
   "source": [
    "# start here"
   ]
  },
  {
   "cell_type": "code",
   "execution_count": 20,
   "metadata": {},
   "outputs": [
    {
     "data": {
      "text/html": [
       "<div>\n",
       "<style>\n",
       "    .dataframe thead tr:only-child th {\n",
       "        text-align: right;\n",
       "    }\n",
       "\n",
       "    .dataframe thead th {\n",
       "        text-align: left;\n",
       "    }\n",
       "\n",
       "    .dataframe tbody tr th {\n",
       "        vertical-align: top;\n",
       "    }\n",
       "</style>\n",
       "<table border=\"1\" class=\"dataframe\">\n",
       "  <thead>\n",
       "    <tr style=\"text-align: right;\">\n",
       "      <th></th>\n",
       "      <th>attempts</th>\n",
       "      <th>problem_id</th>\n",
       "      <th>success</th>\n",
       "      <th>time</th>\n",
       "      <th>username</th>\n",
       "    </tr>\n",
       "  </thead>\n",
       "  <tbody>\n",
       "    <tr>\n",
       "      <th>0</th>\n",
       "      <td>1</td>\n",
       "      <td>b8ca0effd8db42dba28d14a90cbc1163</td>\n",
       "      <td>correct</td>\n",
       "      <td>2014-02-18 21:23:44.112191</td>\n",
       "      <td>username_118692035</td>\n",
       "    </tr>\n",
       "    <tr>\n",
       "      <th>1</th>\n",
       "      <td>1</td>\n",
       "      <td>5a06f0135c9c46a1843767519726753c</td>\n",
       "      <td>correct</td>\n",
       "      <td>2014-02-18 21:44:42.479603</td>\n",
       "      <td>username_118692035</td>\n",
       "    </tr>\n",
       "    <tr>\n",
       "      <th>2</th>\n",
       "      <td>2</td>\n",
       "      <td>6057ed87052c4aa3835ad5e30b91863d</td>\n",
       "      <td>incorrect</td>\n",
       "      <td>2014-02-19 22:00:47.645581</td>\n",
       "      <td>username_118692035</td>\n",
       "    </tr>\n",
       "    <tr>\n",
       "      <th>3</th>\n",
       "      <td>1</td>\n",
       "      <td>6057ed87052c4aa3835ad5e30b91863d</td>\n",
       "      <td>incorrect</td>\n",
       "      <td>2014-02-19 22:00:40.603703</td>\n",
       "      <td>username_118692035</td>\n",
       "    </tr>\n",
       "    <tr>\n",
       "      <th>4</th>\n",
       "      <td>11</td>\n",
       "      <td>6057ed87052c4aa3835ad5e30b91863d</td>\n",
       "      <td>correct</td>\n",
       "      <td>2014-02-19 22:04:01.605071</td>\n",
       "      <td>username_118692035</td>\n",
       "    </tr>\n",
       "  </tbody>\n",
       "</table>\n",
       "</div>"
      ],
      "text/plain": [
       "   attempts                        problem_id    success  \\\n",
       "0         1  b8ca0effd8db42dba28d14a90cbc1163    correct   \n",
       "1         1  5a06f0135c9c46a1843767519726753c    correct   \n",
       "2         2  6057ed87052c4aa3835ad5e30b91863d  incorrect   \n",
       "3         1  6057ed87052c4aa3835ad5e30b91863d  incorrect   \n",
       "4        11  6057ed87052c4aa3835ad5e30b91863d    correct   \n",
       "\n",
       "                         time            username  \n",
       "0  2014-02-18 21:23:44.112191  username_118692035  \n",
       "1  2014-02-18 21:44:42.479603  username_118692035  \n",
       "2  2014-02-19 22:00:47.645581  username_118692035  \n",
       "3  2014-02-19 22:00:40.603703  username_118692035  \n",
       "4  2014-02-19 22:04:01.605071  username_118692035  "
      ]
     },
     "execution_count": 20,
     "metadata": {},
     "output_type": "execute_result"
    }
   ],
   "source": [
    "\"\"\"Read saved file of problem check events only\"\"\"\n",
    "df=pd.read_csv(data_dir+'delft_14_DKT_problem_data_phase1.csv')\n",
    "df.head()\n"
   ]
  },
  {
   "cell_type": "code",
   "execution_count": null,
   "metadata": {
    "collapsed": true
   },
   "outputs": [],
   "source": []
  },
  {
   "cell_type": "code",
   "execution_count": 21,
   "metadata": {},
   "outputs": [
    {
     "data": {
      "text/plain": [
       "(1041217, 5)"
      ]
     },
     "execution_count": 21,
     "metadata": {},
     "output_type": "execute_result"
    }
   ],
   "source": [
    "df.shape"
   ]
  },
  {
   "cell_type": "code",
   "execution_count": 22,
   "metadata": {
    "collapsed": true
   },
   "outputs": [],
   "source": [
    "unique_user_id =set(filter(lambda x: x is not None, df['username'].tolist()))"
   ]
  },
  {
   "cell_type": "code",
   "execution_count": 23,
   "metadata": {},
   "outputs": [
    {
     "data": {
      "text/plain": [
       "5616"
      ]
     },
     "execution_count": 23,
     "metadata": {},
     "output_type": "execute_result"
    }
   ],
   "source": [
    "len(unique_user_id)"
   ]
  },
  {
   "cell_type": "code",
   "execution_count": 10,
   "metadata": {},
   "outputs": [
    {
     "data": {
      "text/plain": [
       "count    9242.000000\n",
       "mean       73.936269\n",
       "std       148.752446\n",
       "min         1.000000\n",
       "25%         5.000000\n",
       "50%        15.000000\n",
       "75%        41.000000\n",
       "max       845.000000\n",
       "Name: time, dtype: float64"
      ]
     },
     "execution_count": 10,
     "metadata": {},
     "output_type": "execute_result"
    }
   ],
   "source": [
    "# get idea about number of timesteps for each users\n",
    "df.groupby('username')['time'].count().describe()"
   ]
  },
  {
   "cell_type": "code",
   "execution_count": 24,
   "metadata": {
    "scrolled": false
   },
   "outputs": [
    {
     "data": {
      "text/plain": [
       "' Also we can create more datapoints by \\nbreaking large sequences into small length \\ni.e multiple sequences per student '"
      ]
     },
     "execution_count": 24,
     "metadata": {},
     "output_type": "execute_result"
    }
   ],
   "source": [
    "\"\"\"CONVERT TIME TO TIMESTEPS\"\"\"\n",
    "def create_timesteps_truncated(group,limit=100):\n",
    "#     print(group)\n",
    "    group=group.sort_values('time')\n",
    "#     assign timesteps from 1..\n",
    "    indices=list(range(1,len(group[\"time\"])+1))\n",
    "    length=len(indices)\n",
    "    if length>limit:\n",
    "#         print(length)\n",
    "#         set all other timesteps to 0\n",
    "        indices[limit:]=[0]*(length-limit)\n",
    "    group[\"timesteps\"]=indices\n",
    "    return group\n",
    "\n",
    "\n",
    "df=df.groupby(\"username\").apply(lambda group : create_timesteps_truncated(group))\n",
    "\n",
    "\n",
    "\"\"\" Also we can create more datapoints by \n",
    "breaking large sequences into small length \n",
    "i.e multiple sequences per student \"\"\""
   ]
  },
  {
   "cell_type": "code",
   "execution_count": 25,
   "metadata": {},
   "outputs": [
    {
     "data": {
      "text/plain": [
       "count    1.041217e+06\n",
       "mean     1.025763e+01\n",
       "std      2.268995e+01\n",
       "min      0.000000e+00\n",
       "25%      0.000000e+00\n",
       "50%      0.000000e+00\n",
       "75%      1.000000e+00\n",
       "max      1.000000e+02\n",
       "Name: timesteps, dtype: float64"
      ]
     },
     "execution_count": 25,
     "metadata": {},
     "output_type": "execute_result"
    }
   ],
   "source": [
    "df.timesteps.describe()"
   ]
  },
  {
   "cell_type": "code",
   "execution_count": 26,
   "metadata": {},
   "outputs": [
    {
     "data": {
      "text/plain": [
       "(265233, 6)"
      ]
     },
     "execution_count": 26,
     "metadata": {},
     "output_type": "execute_result"
    }
   ],
   "source": [
    "# get rows where timstep is valid \n",
    "dfvalid=df[df['timesteps']!=0]\n",
    "dfvalid.shape\n"
   ]
  },
  {
   "cell_type": "code",
   "execution_count": 27,
   "metadata": {
    "scrolled": true
   },
   "outputs": [
    {
     "data": {
      "text/html": [
       "<div>\n",
       "<style>\n",
       "    .dataframe thead tr:only-child th {\n",
       "        text-align: right;\n",
       "    }\n",
       "\n",
       "    .dataframe thead th {\n",
       "        text-align: left;\n",
       "    }\n",
       "\n",
       "    .dataframe tbody tr th {\n",
       "        vertical-align: top;\n",
       "    }\n",
       "</style>\n",
       "<table border=\"1\" class=\"dataframe\">\n",
       "  <thead>\n",
       "    <tr style=\"text-align: right;\">\n",
       "      <th></th>\n",
       "      <th></th>\n",
       "      <th>attempts</th>\n",
       "      <th>problem_id</th>\n",
       "      <th>success</th>\n",
       "      <th>time</th>\n",
       "      <th>username</th>\n",
       "      <th>timesteps</th>\n",
       "    </tr>\n",
       "    <tr>\n",
       "      <th>username</th>\n",
       "      <th></th>\n",
       "      <th></th>\n",
       "      <th></th>\n",
       "      <th></th>\n",
       "      <th></th>\n",
       "      <th></th>\n",
       "      <th></th>\n",
       "    </tr>\n",
       "  </thead>\n",
       "  <tbody>\n",
       "    <tr>\n",
       "      <th rowspan=\"5\" valign=\"top\">username_100663452</th>\n",
       "      <th>40881</th>\n",
       "      <td>1</td>\n",
       "      <td>b8ca0effd8db42dba28d14a90cbc1163</td>\n",
       "      <td>incorrect</td>\n",
       "      <td>2014-03-04 02:22:09.491919</td>\n",
       "      <td>username_100663452</td>\n",
       "      <td>1</td>\n",
       "    </tr>\n",
       "    <tr>\n",
       "      <th>40880</th>\n",
       "      <td>2</td>\n",
       "      <td>b8ca0effd8db42dba28d14a90cbc1163</td>\n",
       "      <td>incorrect</td>\n",
       "      <td>2014-03-04 02:22:13.531655</td>\n",
       "      <td>username_100663452</td>\n",
       "      <td>2</td>\n",
       "    </tr>\n",
       "    <tr>\n",
       "      <th>40932</th>\n",
       "      <td>1</td>\n",
       "      <td>5a06f0135c9c46a1843767519726753c</td>\n",
       "      <td>incorrect</td>\n",
       "      <td>2014-03-04 02:26:46.615944</td>\n",
       "      <td>username_100663452</td>\n",
       "      <td>3</td>\n",
       "    </tr>\n",
       "    <tr>\n",
       "      <th>40905</th>\n",
       "      <td>2</td>\n",
       "      <td>5a06f0135c9c46a1843767519726753c</td>\n",
       "      <td>incorrect</td>\n",
       "      <td>2014-03-04 02:26:52.340584</td>\n",
       "      <td>username_100663452</td>\n",
       "      <td>4</td>\n",
       "    </tr>\n",
       "    <tr>\n",
       "      <th>40891</th>\n",
       "      <td>3</td>\n",
       "      <td>5a06f0135c9c46a1843767519726753c</td>\n",
       "      <td>incorrect</td>\n",
       "      <td>2014-03-04 02:26:55.772529</td>\n",
       "      <td>username_100663452</td>\n",
       "      <td>5</td>\n",
       "    </tr>\n",
       "  </tbody>\n",
       "</table>\n",
       "</div>"
      ],
      "text/plain": [
       "                          attempts                        problem_id  \\\n",
       "username                                                               \n",
       "username_100663452 40881         1  b8ca0effd8db42dba28d14a90cbc1163   \n",
       "                   40880         2  b8ca0effd8db42dba28d14a90cbc1163   \n",
       "                   40932         1  5a06f0135c9c46a1843767519726753c   \n",
       "                   40905         2  5a06f0135c9c46a1843767519726753c   \n",
       "                   40891         3  5a06f0135c9c46a1843767519726753c   \n",
       "\n",
       "                            success                        time  \\\n",
       "username                                                          \n",
       "username_100663452 40881  incorrect  2014-03-04 02:22:09.491919   \n",
       "                   40880  incorrect  2014-03-04 02:22:13.531655   \n",
       "                   40932  incorrect  2014-03-04 02:26:46.615944   \n",
       "                   40905  incorrect  2014-03-04 02:26:52.340584   \n",
       "                   40891  incorrect  2014-03-04 02:26:55.772529   \n",
       "\n",
       "                                    username  timesteps  \n",
       "username                                                 \n",
       "username_100663452 40881  username_100663452          1  \n",
       "                   40880  username_100663452          2  \n",
       "                   40932  username_100663452          3  \n",
       "                   40905  username_100663452          4  \n",
       "                   40891  username_100663452          5  "
      ]
     },
     "execution_count": 27,
     "metadata": {},
     "output_type": "execute_result"
    }
   ],
   "source": [
    "dfvalid.head()"
   ]
  },
  {
   "cell_type": "code",
   "execution_count": 28,
   "metadata": {
    "collapsed": true
   },
   "outputs": [],
   "source": [
    "assistment_df= dfvalid.pivot(index='username', columns='timesteps', values='problem_id')"
   ]
  },
  {
   "cell_type": "code",
   "execution_count": null,
   "metadata": {
    "collapsed": true
   },
   "outputs": [],
   "source": [
    "assistment_df.shape"
   ]
  },
  {
   "cell_type": "code",
   "execution_count": null,
   "metadata": {
    "collapsed": true
   },
   "outputs": [],
   "source": [
    "# assistment_df.isnull().sum()"
   ]
  },
  {
   "cell_type": "markdown",
   "metadata": {},
   "source": [
    "### Replace id with integer numbers"
   ]
  },
  {
   "cell_type": "code",
   "execution_count": 29,
   "metadata": {
    "collapsed": true
   },
   "outputs": [],
   "source": [
    "\n",
    "skill_df=assistment_df.replace(problem_id_dict) \n",
    "skill_df=skill_df.fillna(-1)\n",
    "skill_df=skill_df.astype(int)"
   ]
  },
  {
   "cell_type": "code",
   "execution_count": 18,
   "metadata": {},
   "outputs": [
    {
     "data": {
      "text/plain": [
       "(9242, 100)"
      ]
     },
     "execution_count": 18,
     "metadata": {},
     "output_type": "execute_result"
    }
   ],
   "source": [
    "skill_df.shape"
   ]
  },
  {
   "cell_type": "code",
   "execution_count": 19,
   "metadata": {},
   "outputs": [
    {
     "data": {
      "text/html": [
       "<div>\n",
       "<style>\n",
       "    .dataframe thead tr:only-child th {\n",
       "        text-align: right;\n",
       "    }\n",
       "\n",
       "    .dataframe thead th {\n",
       "        text-align: left;\n",
       "    }\n",
       "\n",
       "    .dataframe tbody tr th {\n",
       "        vertical-align: top;\n",
       "    }\n",
       "</style>\n",
       "<table border=\"1\" class=\"dataframe\">\n",
       "  <thead>\n",
       "    <tr style=\"text-align: right;\">\n",
       "      <th>timesteps</th>\n",
       "      <th>1</th>\n",
       "      <th>2</th>\n",
       "      <th>3</th>\n",
       "      <th>4</th>\n",
       "      <th>5</th>\n",
       "      <th>6</th>\n",
       "      <th>7</th>\n",
       "      <th>8</th>\n",
       "      <th>9</th>\n",
       "      <th>10</th>\n",
       "      <th>...</th>\n",
       "      <th>91</th>\n",
       "      <th>92</th>\n",
       "      <th>93</th>\n",
       "      <th>94</th>\n",
       "      <th>95</th>\n",
       "      <th>96</th>\n",
       "      <th>97</th>\n",
       "      <th>98</th>\n",
       "      <th>99</th>\n",
       "      <th>100</th>\n",
       "    </tr>\n",
       "    <tr>\n",
       "      <th>username</th>\n",
       "      <th></th>\n",
       "      <th></th>\n",
       "      <th></th>\n",
       "      <th></th>\n",
       "      <th></th>\n",
       "      <th></th>\n",
       "      <th></th>\n",
       "      <th></th>\n",
       "      <th></th>\n",
       "      <th></th>\n",
       "      <th></th>\n",
       "      <th></th>\n",
       "      <th></th>\n",
       "      <th></th>\n",
       "      <th></th>\n",
       "      <th></th>\n",
       "      <th></th>\n",
       "      <th></th>\n",
       "      <th></th>\n",
       "      <th></th>\n",
       "      <th></th>\n",
       "    </tr>\n",
       "  </thead>\n",
       "  <tbody>\n",
       "    <tr>\n",
       "      <th>username_100663505</th>\n",
       "      <td>18</td>\n",
       "      <td>327</td>\n",
       "      <td>51</td>\n",
       "      <td>168</td>\n",
       "      <td>302</td>\n",
       "      <td>302</td>\n",
       "      <td>152</td>\n",
       "      <td>44</td>\n",
       "      <td>322</td>\n",
       "      <td>244</td>\n",
       "      <td>...</td>\n",
       "      <td>-1</td>\n",
       "      <td>-1</td>\n",
       "      <td>-1</td>\n",
       "      <td>-1</td>\n",
       "      <td>-1</td>\n",
       "      <td>-1</td>\n",
       "      <td>-1</td>\n",
       "      <td>-1</td>\n",
       "      <td>-1</td>\n",
       "      <td>-1</td>\n",
       "    </tr>\n",
       "    <tr>\n",
       "      <th>username_100664898</th>\n",
       "      <td>281</td>\n",
       "      <td>14</td>\n",
       "      <td>14</td>\n",
       "      <td>14</td>\n",
       "      <td>-1</td>\n",
       "      <td>-1</td>\n",
       "      <td>-1</td>\n",
       "      <td>-1</td>\n",
       "      <td>-1</td>\n",
       "      <td>-1</td>\n",
       "      <td>...</td>\n",
       "      <td>-1</td>\n",
       "      <td>-1</td>\n",
       "      <td>-1</td>\n",
       "      <td>-1</td>\n",
       "      <td>-1</td>\n",
       "      <td>-1</td>\n",
       "      <td>-1</td>\n",
       "      <td>-1</td>\n",
       "      <td>-1</td>\n",
       "      <td>-1</td>\n",
       "    </tr>\n",
       "    <tr>\n",
       "      <th>username_100666909</th>\n",
       "      <td>281</td>\n",
       "      <td>281</td>\n",
       "      <td>14</td>\n",
       "      <td>14</td>\n",
       "      <td>14</td>\n",
       "      <td>91</td>\n",
       "      <td>91</td>\n",
       "      <td>91</td>\n",
       "      <td>305</td>\n",
       "      <td>305</td>\n",
       "      <td>...</td>\n",
       "      <td>-1</td>\n",
       "      <td>-1</td>\n",
       "      <td>-1</td>\n",
       "      <td>-1</td>\n",
       "      <td>-1</td>\n",
       "      <td>-1</td>\n",
       "      <td>-1</td>\n",
       "      <td>-1</td>\n",
       "      <td>-1</td>\n",
       "      <td>-1</td>\n",
       "    </tr>\n",
       "    <tr>\n",
       "      <th>username_100668446</th>\n",
       "      <td>281</td>\n",
       "      <td>14</td>\n",
       "      <td>14</td>\n",
       "      <td>14</td>\n",
       "      <td>314</td>\n",
       "      <td>314</td>\n",
       "      <td>314</td>\n",
       "      <td>314</td>\n",
       "      <td>91</td>\n",
       "      <td>91</td>\n",
       "      <td>...</td>\n",
       "      <td>-1</td>\n",
       "      <td>-1</td>\n",
       "      <td>-1</td>\n",
       "      <td>-1</td>\n",
       "      <td>-1</td>\n",
       "      <td>-1</td>\n",
       "      <td>-1</td>\n",
       "      <td>-1</td>\n",
       "      <td>-1</td>\n",
       "      <td>-1</td>\n",
       "    </tr>\n",
       "    <tr>\n",
       "      <th>username_100670598</th>\n",
       "      <td>281</td>\n",
       "      <td>14</td>\n",
       "      <td>91</td>\n",
       "      <td>91</td>\n",
       "      <td>91</td>\n",
       "      <td>314</td>\n",
       "      <td>314</td>\n",
       "      <td>305</td>\n",
       "      <td>305</td>\n",
       "      <td>305</td>\n",
       "      <td>...</td>\n",
       "      <td>-1</td>\n",
       "      <td>-1</td>\n",
       "      <td>-1</td>\n",
       "      <td>-1</td>\n",
       "      <td>-1</td>\n",
       "      <td>-1</td>\n",
       "      <td>-1</td>\n",
       "      <td>-1</td>\n",
       "      <td>-1</td>\n",
       "      <td>-1</td>\n",
       "    </tr>\n",
       "  </tbody>\n",
       "</table>\n",
       "<p>5 rows × 100 columns</p>\n",
       "</div>"
      ],
      "text/plain": [
       "timesteps           1    2    3    4    5    6    7    8    9    10  ...   \\\n",
       "username                                                             ...    \n",
       "username_100663505   18  327   51  168  302  302  152   44  322  244 ...    \n",
       "username_100664898  281   14   14   14   -1   -1   -1   -1   -1   -1 ...    \n",
       "username_100666909  281  281   14   14   14   91   91   91  305  305 ...    \n",
       "username_100668446  281   14   14   14  314  314  314  314   91   91 ...    \n",
       "username_100670598  281   14   91   91   91  314  314  305  305  305 ...    \n",
       "\n",
       "timesteps           91   92   93   94   95   96   97   98   99   100  \n",
       "username                                                              \n",
       "username_100663505   -1   -1   -1   -1   -1   -1   -1   -1   -1   -1  \n",
       "username_100664898   -1   -1   -1   -1   -1   -1   -1   -1   -1   -1  \n",
       "username_100666909   -1   -1   -1   -1   -1   -1   -1   -1   -1   -1  \n",
       "username_100668446   -1   -1   -1   -1   -1   -1   -1   -1   -1   -1  \n",
       "username_100670598   -1   -1   -1   -1   -1   -1   -1   -1   -1   -1  \n",
       "\n",
       "[5 rows x 100 columns]"
      ]
     },
     "execution_count": 19,
     "metadata": {},
     "output_type": "execute_result"
    }
   ],
   "source": [
    "skill_df.head()"
   ]
  },
  {
   "cell_type": "code",
   "execution_count": null,
   "metadata": {
    "collapsed": true
   },
   "outputs": [],
   "source": [
    "# skill_df.isnull().sum()"
   ]
  },
  {
   "cell_type": "code",
   "execution_count": 30,
   "metadata": {
    "collapsed": true
   },
   "outputs": [],
   "source": [
    "\n",
    "#skill_df.to_csv(data_dir+'skill_df_delft_14_phase1.csv')"
   ]
  },
  {
   "cell_type": "code",
   "execution_count": 31,
   "metadata": {
    "collapsed": true
   },
   "outputs": [],
   "source": [
    "response_data= dfvalid.pivot(index='username', columns='timesteps', values='success')"
   ]
  },
  {
   "cell_type": "code",
   "execution_count": 32,
   "metadata": {},
   "outputs": [
    {
     "data": {
      "text/plain": [
       "(5616, 100)"
      ]
     },
     "execution_count": 32,
     "metadata": {},
     "output_type": "execute_result"
    }
   ],
   "source": [
    "# response_data.isnull().sum()\n",
    "response_data.shape"
   ]
  },
  {
   "cell_type": "code",
   "execution_count": 33,
   "metadata": {
    "collapsed": true
   },
   "outputs": [],
   "source": [
    "correctness={\"correct\":int(1),\"incorrect\":int(0)}\n",
    "response_df=response_data.replace(correctness) "
   ]
  },
  {
   "cell_type": "code",
   "execution_count": null,
   "metadata": {
    "collapsed": true
   },
   "outputs": [],
   "source": [
    "# response_df.head()"
   ]
  },
  {
   "cell_type": "code",
   "execution_count": 34,
   "metadata": {
    "collapsed": true
   },
   "outputs": [],
   "source": [
    "response_df=response_df.fillna(-1)\n",
    "response_df=response_df.astype(int)"
   ]
  },
  {
   "cell_type": "code",
   "execution_count": 35,
   "metadata": {
    "collapsed": true
   },
   "outputs": [],
   "source": [
    "# response_df.to_csv(data_dir+'response_df_delft_14_phase1.csv')"
   ]
  },
  {
   "cell_type": "code",
   "execution_count": null,
   "metadata": {
    "collapsed": true
   },
   "outputs": [],
   "source": []
  }
 ],
 "metadata": {
  "kernelspec": {
   "display_name": "Python 2",
   "language": "python",
   "name": "python2"
  },
  "language_info": {
   "codemirror_mode": {
    "name": "ipython",
    "version": 3
   },
   "file_extension": ".py",
   "mimetype": "text/x-python",
   "name": "python",
   "nbconvert_exporter": "python",
   "pygments_lexer": "ipython3",
   "version": "3.4.3"
  }
 },
 "nbformat": 4,
 "nbformat_minor": 2
}
